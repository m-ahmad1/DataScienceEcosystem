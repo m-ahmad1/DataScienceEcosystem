{
 "cells": [
  {
   "cell_type": "markdown",
   "id": "24144947-d245-4520-8fc1-451fcde32950",
   "metadata": {},
   "source": [
    "# Data Science Tools and Ecosystem "
   ]
  },
  {
   "cell_type": "markdown",
   "id": "33bfb61c-f8cf-463a-af79-e4e7adff7a59",
   "metadata": {},
   "source": [
    "In this notebook, Data Science Tools and Ecosystem are summarized."
   ]
  },
  {
   "cell_type": "markdown",
   "id": "02fae261-8754-489a-84d2-c464b62335ae",
   "metadata": {},
   "source": [
    "Some of the popular languages that Data Scientists use are:\n",
    "ordered list\n",
    "1. Python\n",
    "2. R Language\n",
    "3. SQL"
   ]
  },
  {
   "cell_type": "markdown",
   "id": "dd2fbb9d-6366-469c-8b95-fd7356d728db",
   "metadata": {},
   "source": [
    "Some of the commonly used libraries used by Data Scientists include:\n",
    "ordered list\n",
    "1. Pandas\n",
    "2. Numpy\n",
    "3. Matplotlib"
   ]
  },
  {
   "cell_type": "markdown",
   "id": "d0e3f20f-8fea-45b6-aa9b-07f1050a267a",
   "metadata": {},
   "source": [
    "|Data Science Tools|\n",
    "--------------------\n",
    "|Brackets|\n",
    "|Visual Studio Code|\n",
    "|Git|\n"
   ]
  },
  {
   "cell_type": "markdown",
   "id": "c95212df-89d4-4af5-b002-fb6f1e1a0736",
   "metadata": {},
   "source": [
    "### Below are a few examples of evaluating arithmetic expressions in Python"
   ]
  },
  {
   "cell_type": "code",
   "execution_count": 20,
   "id": "870c4f23-d869-4053-9744-a6df7cbfe3fb",
   "metadata": {},
   "outputs": [
    {
     "name": "stdout",
     "output_type": "stream",
     "text": [
      "17\n"
     ]
    }
   ],
   "source": [
    "#This a simple arithmetic expression to mutiply then add integers\n",
    "x=3\n",
    "y=4\n",
    "z=5\n",
    "a=x*y\n",
    "b=a+z\n",
    "print(b)"
   ]
  },
  {
   "cell_type": "markdown",
   "id": "7f320e16-8b2f-42b4-ac9e-8c0eda921597",
   "metadata": {},
   "source": [
    "# convert minutes to hours"
   ]
  },
  {
   "cell_type": "code",
   "execution_count": 27,
   "id": "3ad13d59-f729-4876-9d30-17c73f312555",
   "metadata": {},
   "outputs": [
    {
     "name": "stdout",
     "output_type": "stream",
     "text": [
      "number of Hours =  3.3333333333333335 Hours\n"
     ]
    }
   ],
   "source": [
    "#This will convert 200 minutes to hours by diving by 60.\n",
    "number_of_minutes=200\n",
    "number_of_Hours=200/60\n",
    "print(\"number of Hours = \",number_of_Hours,\"Hours\")"
   ]
  },
  {
   "cell_type": "markdown",
   "id": "7eb838ec-d628-41f9-93c3-3bad5884e093",
   "metadata": {},
   "source": [
    "**Objectives:**\n",
    "* Python\n",
    "* Numpy\n",
    "* Jupiter notebook\n",
    "* Jupiter Lab\n",
    "* Pandas"
   ]
  },
  {
   "cell_type": "markdown",
   "id": "27b5c3fe-fe22-49a2-a4b8-b08fc3fbf14e",
   "metadata": {},
   "source": [
    "# Author\n",
    "Ahmad"
   ]
  },
  {
   "cell_type": "code",
   "execution_count": null,
   "id": "daa76acf-cfb3-4296-93ba-66fb245a3528",
   "metadata": {},
   "outputs": [],
   "source": []
  }
 ],
 "metadata": {
  "kernelspec": {
   "display_name": "Python 3 (ipykernel)",
   "language": "python",
   "name": "python3"
  },
  "language_info": {
   "codemirror_mode": {
    "name": "ipython",
    "version": 3
   },
   "file_extension": ".py",
   "mimetype": "text/x-python",
   "name": "python",
   "nbconvert_exporter": "python",
   "pygments_lexer": "ipython3",
   "version": "3.12.4"
  }
 },
 "nbformat": 4,
 "nbformat_minor": 5
}
